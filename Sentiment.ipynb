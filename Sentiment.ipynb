{
 "cells": [
  {
   "cell_type": "markdown",
   "metadata": {},
   "source": [
    "# ***TWITTER SENTIMENT ANALYSIS***\n",
    "\n",
    "###  Sentiment Analysis : \n",
    "It is application of ***Natural Language Processing (NLP)*** that builds systems that try to identify and extract the sentiment content or opinions behind a series of word.\n",
    "\n",
    "Rule-based systems that perform sentiment analysis based on a set of manually crafted rules.\n",
    "\n",
    "We use ***Rule Based Approch*** ,A textBlob library which is in python"
   ]
  },
  {
   "cell_type": "markdown",
   "metadata": {},
   "source": [
    "### Step 1: Importing the important Libraries"
   ]
  },
  {
   "cell_type": "code",
   "execution_count": 39,
   "metadata": {},
   "outputs": [
    {
     "name": "stdout",
     "output_type": "stream",
     "text": [
      "Requirement already satisfied: twitter in c:\\users\\jagadish\\appdata\\local\\programs\\python\\python37-32\\lib\\site-packages (1.18.0)\n",
      "Requirement already satisfied: matplotlib in c:\\users\\jagadish\\appdata\\local\\programs\\python\\python37-32\\lib\\site-packages (3.1.1)\n",
      "Requirement already satisfied: kiwisolver>=1.0.1 in c:\\users\\jagadish\\appdata\\local\\programs\\python\\python37-32\\lib\\site-packages (from matplotlib) (1.1.0)\n",
      "Requirement already satisfied: python-dateutil>=2.1 in c:\\users\\jagadish\\appdata\\local\\programs\\python\\python37-32\\lib\\site-packages (from matplotlib) (2.8.0)\n",
      "Requirement already satisfied: cycler>=0.10 in c:\\users\\jagadish\\appdata\\local\\programs\\python\\python37-32\\lib\\site-packages (from matplotlib) (0.10.0)\n",
      "Requirement already satisfied: numpy>=1.11 in c:\\users\\jagadish\\appdata\\local\\programs\\python\\python37-32\\lib\\site-packages (from matplotlib) (1.17.3)\n",
      "Requirement already satisfied: pyparsing!=2.0.4,!=2.1.2,!=2.1.6,>=2.0.1 in c:\\users\\jagadish\\appdata\\local\\programs\\python\\python37-32\\lib\\site-packages (from matplotlib) (2.4.2)\n",
      "Requirement already satisfied: setuptools in c:\\users\\jagadish\\appdata\\local\\programs\\python\\python37-32\\lib\\site-packages (from kiwisolver>=1.0.1->matplotlib) (40.8.0)\n",
      "Requirement already satisfied: six>=1.5 in c:\\users\\jagadish\\appdata\\roaming\\python\\python37\\site-packages (from python-dateutil>=2.1->matplotlib) (1.12.0)\n",
      "Requirement already satisfied: numpy in c:\\users\\jagadish\\appdata\\local\\programs\\python\\python37-32\\lib\\site-packages (1.17.3)\n",
      "Requirement already satisfied: pandas in c:\\users\\jagadish\\appdata\\local\\programs\\python\\python37-32\\lib\\site-packages (1.0.3)\n",
      "Requirement already satisfied: python-dateutil>=2.6.1 in c:\\users\\jagadish\\appdata\\local\\programs\\python\\python37-32\\lib\\site-packages (from pandas) (2.8.0)\n",
      "Requirement already satisfied: pytz>=2017.2 in c:\\users\\jagadish\\appdata\\local\\programs\\python\\python37-32\\lib\\site-packages (from pandas) (2019.3)\n",
      "Requirement already satisfied: numpy>=1.13.3 in c:\\users\\jagadish\\appdata\\local\\programs\\python\\python37-32\\lib\\site-packages (from pandas) (1.17.3)\n",
      "Requirement already satisfied: six>=1.5 in c:\\users\\jagadish\\appdata\\roaming\\python\\python37\\site-packages (from python-dateutil>=2.6.1->pandas) (1.12.0)\n",
      "Requirement already satisfied: api in c:\\users\\jagadish\\appdata\\local\\programs\\python\\python37-32\\lib\\site-packages (0.0.7)\n",
      "Requirement already satisfied: requests in c:\\users\\jagadish\\appdata\\local\\programs\\python\\python37-32\\lib\\site-packages (from api) (2.24.0)\n",
      "Requirement already satisfied: nose in c:\\users\\jagadish\\appdata\\local\\programs\\python\\python37-32\\lib\\site-packages (from api) (1.3.7)\n",
      "Requirement already satisfied: certifi>=2017.4.17 in c:\\users\\jagadish\\appdata\\local\\programs\\python\\python37-32\\lib\\site-packages (from requests->api) (2020.6.20)\n",
      "Requirement already satisfied: idna<3,>=2.5 in c:\\users\\jagadish\\appdata\\local\\programs\\python\\python37-32\\lib\\site-packages (from requests->api) (2.9)\n",
      "Requirement already satisfied: chardet<4,>=3.0.2 in c:\\users\\jagadish\\appdata\\local\\programs\\python\\python37-32\\lib\\site-packages (from requests->api) (3.0.4)\n",
      "Requirement already satisfied: urllib3!=1.25.0,!=1.25.1,<1.26,>=1.21.1 in c:\\users\\jagadish\\appdata\\local\\programs\\python\\python37-32\\lib\\site-packages (from requests->api) (1.25.9)\n",
      "Requirement already satisfied: IPython in c:\\users\\jagadish\\appdata\\local\\programs\\python\\python37-32\\lib\\site-packages (7.15.0)\n",
      "Requirement already satisfied: pygments in c:\\users\\jagadish\\appdata\\local\\programs\\python\\python37-32\\lib\\site-packages (from IPython) (2.6.1)\n",
      "Requirement already satisfied: traitlets>=4.2 in c:\\users\\jagadish\\appdata\\local\\programs\\python\\python37-32\\lib\\site-packages (from IPython) (4.3.3)\n",
      "Requirement already satisfied: colorama; sys_platform == \"win32\" in c:\\users\\jagadish\\appdata\\roaming\\python\\python37\\site-packages (from IPython) (0.4.1)\n",
      "Requirement already satisfied: backcall in c:\\users\\jagadish\\appdata\\local\\programs\\python\\python37-32\\lib\\site-packages (from IPython) (0.2.0)\n",
      "Requirement already satisfied: setuptools>=18.5 in c:\\users\\jagadish\\appdata\\local\\programs\\python\\python37-32\\lib\\site-packages (from IPython) (40.8.0)\n",
      "Requirement already satisfied: jedi>=0.10 in c:\\users\\jagadish\\appdata\\local\\programs\\python\\python37-32\\lib\\site-packages (from IPython) (0.17.1)\n",
      "Requirement already satisfied: decorator in c:\\users\\jagadish\\appdata\\local\\programs\\python\\python37-32\\lib\\site-packages (from IPython) (4.4.2)\n",
      "Requirement already satisfied: pickleshare in c:\\users\\jagadish\\appdata\\local\\programs\\python\\python37-32\\lib\\site-packages (from IPython) (0.7.5)\n",
      "Requirement already satisfied: prompt-toolkit!=3.0.0,!=3.0.1,<3.1.0,>=2.0.0 in c:\\users\\jagadish\\appdata\\local\\programs\\python\\python37-32\\lib\\site-packages (from IPython) (3.0.5)\n",
      "Requirement already satisfied: ipython-genutils in c:\\users\\jagadish\\appdata\\local\\programs\\python\\python37-32\\lib\\site-packages (from traitlets>=4.2->IPython) (0.2.0)\n",
      "Requirement already satisfied: six in c:\\users\\jagadish\\appdata\\roaming\\python\\python37\\site-packages (from traitlets>=4.2->IPython) (1.12.0)\n",
      "Requirement already satisfied: parso<0.8.0,>=0.7.0 in c:\\users\\jagadish\\appdata\\local\\programs\\python\\python37-32\\lib\\site-packages (from jedi>=0.10->IPython) (0.7.0)\n",
      "Requirement already satisfied: wcwidth in c:\\users\\jagadish\\appdata\\local\\programs\\python\\python37-32\\lib\\site-packages (from prompt-toolkit!=3.0.0,!=3.0.1,<3.1.0,>=2.0.0->IPython) (0.2.4)\n",
      "Requirement already satisfied: api in c:\\users\\jagadish\\appdata\\local\\programs\\python\\python37-32\\lib\\site-packages (0.0.7)\n",
      "Requirement already satisfied: nose in c:\\users\\jagadish\\appdata\\local\\programs\\python\\python37-32\\lib\\site-packages (from api) (1.3.7)\n",
      "Requirement already satisfied: requests in c:\\users\\jagadish\\appdata\\local\\programs\\python\\python37-32\\lib\\site-packages (from api) (2.24.0)\n",
      "Requirement already satisfied: idna<3,>=2.5 in c:\\users\\jagadish\\appdata\\local\\programs\\python\\python37-32\\lib\\site-packages (from requests->api) (2.9)\n",
      "Requirement already satisfied: chardet<4,>=3.0.2 in c:\\users\\jagadish\\appdata\\local\\programs\\python\\python37-32\\lib\\site-packages (from requests->api) (3.0.4)\n",
      "Requirement already satisfied: certifi>=2017.4.17 in c:\\users\\jagadish\\appdata\\local\\programs\\python\\python37-32\\lib\\site-packages (from requests->api) (2020.6.20)\n",
      "Requirement already satisfied: urllib3!=1.25.0,!=1.25.1,<1.26,>=1.21.1 in c:\\users\\jagadish\\appdata\\local\\programs\\python\\python37-32\\lib\\site-packages (from requests->api) (1.25.9)\n"
     ]
    }
   ],
   "source": [
    " pip install twitter --user \n",
    " pip install matplotlib --user \n",
    " pip install numpy --user \n",
    " pip install pandas --user\n",
    " pip install api --user\n",
    " pip install IPython --user\n",
    "import sys\n",
    "{sys.executable} -m pip install api\n",
    "\n",
    "import twitter\n",
    "import matplotlib.pyplot as plt\n",
    "import numpy as np\n",
    "import pandas as pd\n",
    "%matplotlib inline\n"
   ]
  },
  {
   "cell_type": "markdown",
   "metadata": {},
   "source": [
    "- ***Importing necessary library*** \n",
    "\n",
    "1.**Twitter** is for collecting data from twitter.\n",
    "\n",
    "2.**Numpy** is for do scientific calculation.\n",
    "\n",
    "3.**Matplotlib** is for visualising the data.\n",
    "\n",
    "3.**nltk** is natural language toolkit which contains various function and datasets.\n",
    "\n",
    " "
   ]
  },
  {
   "cell_type": "markdown",
   "metadata": {},
   "source": [
    "### Step 2: Authenticating our python script"
   ]
  },
  {
   "cell_type": "code",
   "execution_count": 40,
   "metadata": {},
   "outputs": [],
   "source": [
    "api =twitter.Api(consumer_key = \"6wIbKc1r1gxBip6iIHFONAPmC\",\n",
    "                 consumer_secret = \"tCVvZ73O3uoev0CDeWVTC81rlEXNZXqwwormg0y9uSFCFZfg1f\",\n",
    "                 access_token_key = \"816662703582416896-tsI6gqNPYjHPWG4HLbBzjb9hy5EaxVr\",\n",
    "                 access_token_secret = \"OS4LCkXQa0lfK3b1d7c8InhZuUBeCwBYs4FnOFvxXcs8f\")"
   ]
  },
  {
   "cell_type": "code",
   "execution_count": 41,
   "metadata": {
    "scrolled": true
   },
   "outputs": [
    {
     "name": "stdout",
     "output_type": "stream",
     "text": [
      "API Owner Details\n",
      " \n",
      "{\"created_at\": \"Wed Jan 04 15:08:56 +0000 2017\", \"default_profile\": true, \"followers_count\": 7, \"friends_count\": 9, \"id\": 816662703582416896, \"id_str\": \"816662703582416896\", \"location\": \"Vishakhapatnam, India\", \"name\": \"Jagadish Lakhini\", \"profile_background_color\": \"F5F8FA\", \"profile_banner_url\": \"https://pbs.twimg.com/profile_banners/816662703582416896/1520264593\", \"profile_image_url\": \"http://pbs.twimg.com/profile_images/970685673916260352/7ijE5nZ9_normal.jpg\", \"profile_image_url_https\": \"https://pbs.twimg.com/profile_images/970685673916260352/7ijE5nZ9_normal.jpg\", \"profile_link_color\": \"1DA1F2\", \"profile_sidebar_border_color\": \"C0DEED\", \"profile_sidebar_fill_color\": \"DDEEF6\", \"profile_text_color\": \"333333\", \"profile_use_background_image\": true, \"screen_name\": \"jagadish312_\"}\n"
     ]
    }
   ],
   "source": [
    "print(\"API Owner Details\")\n",
    "print(\" \")\n",
    "print(api.VerifyCredentials())"
   ]
  },
  {
   "cell_type": "markdown",
   "metadata": {},
   "source": [
    "### Step 3: Extracting trending hashtags"
   ]
  },
  {
   "cell_type": "code",
   "execution_count": 42,
   "metadata": {},
   "outputs": [
    {
     "name": "stdout",
     "output_type": "stream",
     "text": [
      "Trending\n",
      " \n",
      "['#RIPTiktok', '#SocialMediaDay', '#BanEVM', '#tuesdayvibes', '#SwineFlu', 'Joonie', 'Paytm', 'NATO', 'DigitalAtmanirbhar WithRoposo', 'RoposoAaya TikTokGaya', 'श्री भूपेंद्र यादव', 'श्री हनुमान', 'Waghama', 'CamScanner', 'Chinese FDI', '#चीन_का_काल_मोदी', '#Sooryavanshi', '#COVAXIN', '#BazaarFtHimanshiKhurana', '#MausiJi_LaxmibaiKelkar', '#TajHotel', '#हूल_क्रांतिदिन1855', '#StepDownEPS', '#TSHighcourtRespond', '#HBDAllariNaresh', '#नुह_अलवर_खुनी_रोड_फोरलेन_करो', '#PMDoCBIEnquiryForSSR', '#HBDThirumuruganGandhi', '#DadabhaiNaoroji', '#Visakhapatnam', '#HondaCity', '#HBDShiyamJack', '#AamirKhan', '#AsteroidDay', '#SMLive', '#CSCBiharDay', '#HBDGnanavelRaja', '#Ask_BLACKPINK', '#happybirthdayavikagor', '#AsiManshi', '#दादाभाई_नौरोजी', '#unlock2guidelines', '#cscupdiwas']\n"
     ]
    }
   ],
   "source": [
    "locationTrending = api.GetTrendsWoeid('23424848', exclude=None)\n",
    "trending =[]\n",
    "[trending.append(trend.name) for trend in locationTrending]\n",
    "print(\"Trending\")\n",
    "print(\" \")\n",
    "print(trending)"
   ]
  },
  {
   "cell_type": "markdown",
   "metadata": {},
   "source": [
    "### Step 4: Extracting the tweets from twitter for a specific hashtag\n",
    "\n",
    "In the **createTestData** is a function which take input from user and collect the tweets from twitter and store in variable name ***data***."
   ]
  },
  {
   "cell_type": "code",
   "execution_count": 43,
   "metadata": {},
   "outputs": [
    {
     "name": "stdout",
     "output_type": "stream",
     "text": [
      "Enter the term u want to search#COVAXIN\n",
      "We extract 100 for #COVAXIN\n"
     ]
    },
    {
     "data": {
      "text/plain": [
       "[{'text': \"India's first #COVID19 vaccine candidate, #COVAXIN, gets approval for human trials; it has been jointly developed b… https://t.co/dazz7CqpsD\"},\n",
       " {'text': '#BREAKING | இந்தியாவில் கொரோனாவை தடுக்க முதல் தடுப்பூசிக்கு ஒப்புதல்! \\n\\nhttps://t.co/5wMBD3FLqB | #Covid19 |… https://t.co/HmP7KFPFQY'},\n",
       " {'text': 'Welcome news: Human trials to begin immediately for India’s 1st COVID-19 Vaccine - #COVAXIN™ developed by… https://t.co/9uYWtcyvV6'},\n",
       " {'text': 'RT @sandhyafernez: #Update \\n\\nIndia’s first #Covid_19 vaccine candidate #COVAXIN developed by @BharatBiotech gets DCGI approval; human trial…'},\n",
       " {'text': \"RT @BharatBiotech: COVAXIN™, India's 1st indigenous Covid-19 vaccine, developed by Bharat Biotech successfully enters human trials.\\n\\n @ICMR…\"},\n",
       " {'text': 'Hopefully #COVAXIN is not the same!\\n#Corona #Covid_19'},\n",
       " {'text': 'RT @polimernews: இந்தியாவின் முதல் கொரோனா தடுப்பு மருந்து..  மனிதர்களுக்கு பரிசோதிக்க அனுமதி..! #India | #CoronaVaccine | #COVAXIN | #Covid…'},\n",
       " {'text': 'A potential COVID-19 vaccine, the first to be developed in India by Hyderabad-based Bharat Biotech has been given D… https://t.co/fHC6M5mkSV'},\n",
       " {'text': 'RT @Fukkard: Hammaya😊 Oka Good News\\n#Covaxin #BharatBiotech #coronavirus https://t.co/jK2tMkLjST'},\n",
       " {'text': 'भारत के पहले Covid-19 वैक्सीन कैंडिडेट को मानव परीक्षण के पहले और दूसरे चरण की मंजूरी मिल गई है....\\n\\n#Covid-19… https://t.co/yMjIXcyMUh'},\n",
       " {'text': 'RT @news7tamil: #BREAKING | இந்தியாவில் கொரோனாவை தடுக்க முதல் தடுப்பூசிக்கு ஒப்புதல்! \\n\\nhttps://t.co/5wMBD3FLqB | #Covid19 | #CoronaVaccine…'},\n",
       " {'text': \"RT @DDNewslive: India's first #COVID19 vaccine candidate, #COVAXIN, gets approval for human trials; it has been jointly developed by @ICMRD…\"},\n",
       " {'text': \"RT @BharatBiotech: COVAXIN™, India's 1st indigenous Covid-19 vaccine, developed by Bharat Biotech successfully enters human trials.\\n\\n @ICMR…\"},\n",
       " {'text': 'RT @news7tamil: #BREAKING | இந்தியாவில் கொரோனாவை தடுக்க முதல் தடுப்பூசிக்கு ஒப்புதல்! \\n\\nhttps://t.co/5wMBD3FLqB | #Covid19 | #CoronaVaccine…'},\n",
       " {'text': \"RT @BharatBiotech: COVAXIN™, India's 1st indigenous Covid-19 vaccine, developed by Bharat Biotech successfully enters human trials.\\n\\n @ICMR…\"},\n",
       " {'text': 'RT @TirupurTalks: இந்தியாவின் முதல் கோவிட்-19 தடுப்பூசியான #COVAXIN ஜூலை மாதம் முதல் மனிதர்களுக்கு பரிசோதித்து பார்க்கப்படவுள்ளது.\\n\\n#Tirupu…'},\n",
       " {'text': \"RT @ZeeNewsEnglish: India's first COVID-19 vaccine COVAXIN gets nod for human trials\\n\\n#Coronavirus #CoronavirusIndia #COVID19 #COVAXIN\\n\\nhtt…\"},\n",
       " {'text': \"RT @DDNewslive: India's first #COVID19 vaccine candidate, #COVAXIN, gets approval for human trials; it has been jointly developed by @ICMRD…\"},\n",
       " {'text': \"DGCI confirmed that India's first Covid19 vaccine named #COVAXIN gets ready to I,II Phases for human trials. trials… https://t.co/WvWW6LalU5\"},\n",
       " {'text': 'RT @Aamitabh2: देश की पहली #COVID19 वैक्\\u200dसीन #COVAXIN को मानवीय परीक्षण की मंज़ूरी----'},\n",
       " {'text': \"RT @BharatBiotech: COVAXIN™, India's 1st indigenous Covid-19 vaccine, developed by Bharat Biotech successfully enters human trials.\\n\\n @ICMR…\"},\n",
       " {'text': 'RT @Aamitabh2: देश की पहली #COVID19 वैक्\\u200dसीन #COVAXIN को मानवीय परीक्षण की मंज़ूरी----'},\n",
       " {'text': 'RT @news7tamil: #BREAKING | இந்தியாவில் கொரோனாவை தடுக்க முதல் தடுப்பூசிக்கு ஒப்புதல்! \\n\\nhttps://t.co/5wMBD3FLqB | #Covid19 | #CoronaVaccine…'},\n",
       " {'text': 'RT @news7tamil: #BREAKING | இந்தியாவில் கொரோனாவை தடுக்க முதல் தடுப்பூசிக்கு ஒப்புதல்! \\n\\nhttps://t.co/5wMBD3FLqB | #Covid19 | #CoronaVaccine…'},\n",
       " {'text': 'RT @Aamitabh2: देश की पहली #COVID19 वैक्\\u200dसीन #COVAXIN को मानवीय परीक्षण की मंज़ूरी----'},\n",
       " {'text': \"RT @DDNewslive: India's first #COVID19 vaccine candidate, #COVAXIN, gets approval for human trials; it has been jointly developed by @ICMRD…\"},\n",
       " {'text': 'RT @VikCOVID19: #COVAXIN: இந்தியாவின் முதல் கொரோனா தடுப்பூசி! -மனிதச் சோதனைக்கு ஒப்புதல் #FightCOVID19 #Vaccine https://t.co/ASzUkcPECs'},\n",
       " {'text': \"RT @BharatBiotech: COVAXIN™, India's 1st indigenous Covid-19 vaccine, developed by Bharat Biotech successfully enters human trials.\\n\\n @ICMR…\"},\n",
       " {'text': 'RT @polimernews: இந்தியாவின் முதல் கொரோனா தடுப்பு மருந்து..  மனிதர்களுக்கு பரிசோதிக்க அனுமதி..! #India | #CoronaVaccine | #COVAXIN | #Covid…'},\n",
       " {'text': 'RT @OpIndia_com: Bharat Biotech’s potential COVID-19 vaccine #COVAXIN enters clinical trials after DGCI approval\\nhttps://t.co/hMclOcDgxP'},\n",
       " {'text': \"RT @BharatBiotech: COVAXIN™, India's 1st indigenous Covid-19 vaccine, developed by Bharat Biotech successfully enters human trials.\\n\\n @ICMR…\"},\n",
       " {'text': 'RT @news7tamil: #BREAKING | இந்தியாவில் கொரோனாவை தடுக்க முதல் தடுப்பூசிக்கு ஒப்புதல்! \\n\\nhttps://t.co/5wMBD3FLqB | #Covid19 | #CoronaVaccine…'},\n",
       " {'text': \"RT @BharatBiotech: COVAXIN™, India's 1st indigenous Covid-19 vaccine, developed by Bharat Biotech successfully enters human trials.\\n\\n @ICMR…\"},\n",
       " {'text': \"RT @DDNewslive: India's first #COVID19 vaccine candidate, #COVAXIN, gets approval for human trials; it has been jointly developed by @ICMRD…\"},\n",
       " {'text': \"#BharatBiotech company has made a lot of vaccines earlier also. And that's the vaccine we're all using. We are conf… https://t.co/hm16CFAiXq\"},\n",
       " {'text': \"RT @dna: Bharat Biotech's indigenous #COVID19 vaccine #COVAXIN gets approval for phase I &amp; II human clinical trials\\n\\nhttps://t.co/6bI1IUQlGY\"},\n",
       " {'text': \"India's first #COVID19 vaccine  #COVAXIN, gets approval for human trials; it has been jointly developed by… https://t.co/L9WvaZYoBq\"},\n",
       " {'text': \"RT @BharatBiotech: COVAXIN™, India's 1st indigenous Covid-19 vaccine, developed by Bharat Biotech successfully enters human trials.\\n\\n @ICMR…\"},\n",
       " {'text': 'RT @umasudhir: Welcome news: Human trials to begin immediately for India’s 1st COVID-19 Vaccine - #COVAXIN™ developed by @BharatBiotech alo…'},\n",
       " {'text': \"RT @DDNewslive: India's first #COVID19 vaccine candidate, #COVAXIN, gets approval for human trials; it has been jointly developed by @ICMRD…\"},\n",
       " {'text': 'RT @airnewsalerts: Drug Controller General of India gives approval for human clinical trials of #COVAXIN, the 1st potential #Covid_19 Vacci…'},\n",
       " {'text': 'RT @BiovoiceNews: BIO-BREAKING: Raising big hopes, #COVAXIN, India’s first #vaccine candidate against #COVID19, developed by @BharatBiotech…'},\n",
       " {'text': \"RT @DDNewslive: India's first #COVID19 vaccine candidate, #COVAXIN, gets approval for human trials; it has been jointly developed by @ICMRD…\"},\n",
       " {'text': \"RT @DDNewslive: India's first #COVID19 vaccine candidate, #COVAXIN, is set for human trials\\n\\nDETAILS: https://t.co/sMtiDFZupx https://t.co/…\"},\n",
       " {'text': \"RT @DDNewslive: India's first #COVID19 vaccine candidate, #COVAXIN, is set for human trials\\n\\nDETAILS: https://t.co/sMtiDFZupx https://t.co/…\"},\n",
       " {'text': 'RT @Fukkard: Hammaya😊 Oka Good News\\n#Covaxin #BharatBiotech #coronavirus https://t.co/jK2tMkLjST'},\n",
       " {'text': \"RT @DDNewslive: India's first #COVID19 vaccine candidate, #COVAXIN, gets approval for human trials; it has been jointly developed by @ICMRD…\"},\n",
       " {'text': 'RT @news7tamil: #BREAKING | இந்தியாவில் கொரோனாவை தடுக்க முதல் தடுப்பூசிக்கு ஒப்புதல்! \\n\\nhttps://t.co/5wMBD3FLqB | #Covid19 | #CoronaVaccine…'},\n",
       " {'text': 'RT @pooja_yadav991: Happy news .. \\nEvery test should be successful and may this medicine will come in the market soon.\\n#COVAXIN https://t.c…'},\n",
       " {'text': \"RT @DDNewslive: India's first #COVID19 vaccine candidate, #COVAXIN, gets approval for human trials; it has been jointly developed by @ICMRD…\"},\n",
       " {'text': \"RT @baraju_SuperHit: COVAXIN™, India's 1st indigenous Covid-19 vaccine, developed by @BharatBiotech successfully enters human trials.\\n\\n@ICM…\"},\n",
       " {'text': 'RT @VikCOVID19: #COVAXIN: இந்தியாவின் முதல் கொரோனா தடுப்பூசி! -மனிதச் சோதனைக்கு ஒப்புதல் #FightCOVID19 #Vaccine https://t.co/ASzUkcPECs'},\n",
       " {'text': 'RT @XpressHyderabad: What is the new vaccine candidate from #Hyderabad - COVAXIN all about? Watch this video to know more\\n\\n#India #COVAXIN…'},\n",
       " {'text': 'RT @VikCOVID19: #COVAXIN: இந்தியாவின் முதல் கொரோனா தடுப்பூசி! -மனிதச் சோதனைக்கு ஒப்புதல் #FightCOVID19 #Vaccine https://t.co/ASzUkcPECs'},\n",
       " {'text': 'இந்தியாவின் முதல் கோவிட்-19 தடுப்பூசியான #COVAXIN ஜூலை மாதம் முதல் மனிதர்களுக்கு பரிசோதித்து பார்க்கப்படவுள்ளது.… https://t.co/6h7wRWuR69'},\n",
       " {'text': \"After completing animal testing , Drug Controller has approved clinical human trails for #India's first #COVID19 va… https://t.co/0fzzRgKvck\"},\n",
       " {'text': 'RT @VikCOVID19: #COVAXIN: இந்தியாவின் முதல் கொரோனா தடுப்பூசி! -மனிதச் சோதனைக்கு ஒப்புதல் #FightCOVID19 #Vaccine https://t.co/ASzUkcPECs'},\n",
       " {'text': \"RT @DDNewslive: India's first #COVID19 vaccine candidate, #COVAXIN, gets approval for human trials; it has been jointly developed by @ICMRD…\"},\n",
       " {'text': 'RT @polimernews: இந்தியாவின் முதல் கொரோனா தடுப்பு மருந்து..  மனிதர்களுக்கு பரிசோதிக்க அனுமதி..! #India | #CoronaVaccine | #COVAXIN | #Covid…'},\n",
       " {'text': 'RT @Aamitabh2: देश की पहली #COVID19 वैक्\\u200dसीन #COVAXIN को मानवीय परीक्षण की मंज़ूरी----'},\n",
       " {'text': 'RT @AmitPandey__: #आत्मनिर्भरभारत\\n\\nFrom #Hydroxychloroquine to #dexamethasone to #COVAXIN\\n\\nIndia is the real fighter against COVID-19.....…'},\n",
       " {'text': \"RT @_real_donald_: India's first vaccine #COVAXIN get approval for human trails, All the Chinese apps are banned. Cheer up guys happiness i…\"},\n",
       " {'text': 'RT @AmitPandey__: #आत्मनिर्भरभारत\\n\\nFrom #Hydroxychloroquine to #dexamethasone to #COVAXIN\\n\\nIndia is the real fighter against COVID-19.....…'},\n",
       " {'text': \"RT @DDNewslive: India's first #COVID19 vaccine candidate, #COVAXIN, gets approval for human trials; it has been jointly developed by @ICMRD…\"},\n",
       " {'text': \"RT @DDNewslive: India's first #COVID19 vaccine candidate, #COVAXIN, gets approval for human trials; it has been jointly developed by @ICMRD…\"},\n",
       " {'text': '#COVAXIN: இந்தியாவின் முதல் கொரோனா தடுப்பூசி! -மனிதச் சோதனைக்கு ஒப்புதல் #FightCOVID19 #Vaccine https://t.co/ASzUkcPECs'},\n",
       " {'text': \"RT @dna: Bharat Biotech's indigenous #COVID19 vaccine #COVAXIN gets approval for phase I &amp; II human clinical trials\\n\\nhttps://t.co/6bI1IUQlGY\"},\n",
       " {'text': \"RT @DDNewslive: India's first #COVID19 vaccine candidate, #COVAXIN, gets approval for human trials; it has been jointly developed by @ICMRD…\"},\n",
       " {'text': 'RT @zeerajasthan_: भारत की वैक्सीन निर्माता भारत बायोटेक ने दावा किया है कि उसने सफलतापूर्वक कोरोना वायरस की वैक्सीन #COVAXIN बना ली है। कं…'},\n",
       " {'text': \"RT @DDNewslive: India's first #COVID19 vaccine candidate, #COVAXIN, gets approval for human trials; it has been jointly developed by @ICMRD…\"},\n",
       " {'text': 'RT @news7tamil: #BREAKING | இந்தியாவில் கொரோனாவை தடுக்க முதல் தடுப்பூசிக்கு ஒப்புதல்! \\n\\nhttps://t.co/5wMBD3FLqB | #Covid19 | #CoronaVaccine…'},\n",
       " {'text': \"RT @BharatBiotech: COVAXIN™, India's 1st indigenous Covid-19 vaccine, developed by Bharat Biotech successfully enters human trials.\\n\\n @ICMR…\"},\n",
       " {'text': 'RT @airnewsalerts: Drug Controller General of India gives approval for human clinical trials of #COVAXIN, the 1st potential #Covid_19 Vacci…'},\n",
       " {'text': 'RT @news7tamil: #BREAKING | இந்தியாவில் கொரோனாவை தடுக்க முதல் தடுப்பூசிக்கு ஒப்புதல்! \\n\\nhttps://t.co/5wMBD3FLqB | #Covid19 | #CoronaVaccine…'},\n",
       " {'text': \"RT @DDNewslive: India's first #COVID19 vaccine candidate, #COVAXIN, gets approval for human trials; it has been jointly developed by @ICMRD…\"},\n",
       " {'text': 'देश की पहली #COVID19 वैक्\\u200dसीन #COVAXIN को मानवीय परीक्षण की मंज़ूरी----'},\n",
       " {'text': 'RT @airnewsalerts: Drug Controller General of India gives approval for human clinical trials of #COVAXIN, the 1st potential #Covid_19 Vacci…'},\n",
       " {'text': \"RT @BharatBiotech: COVAXIN™, India's 1st indigenous Covid-19 vaccine, developed by Bharat Biotech successfully enters human trials.\\n\\n @ICMR…\"},\n",
       " {'text': 'RT @airnewsalerts: Drug Controller General of India gives approval for human clinical trials of #COVAXIN, the 1st potential #Covid_19 Vacci…'},\n",
       " {'text': \"RT @DDNewslive: India's first #COVID19 vaccine candidate, #COVAXIN, gets approval for human trials; it has been jointly developed by @ICMRD…\"},\n",
       " {'text': \"RT @DDNewslive: India's first #COVID19 vaccine candidate, #COVAXIN, gets approval for human trials; it has been jointly developed by @ICMRD…\"},\n",
       " {'text': 'RT @indiacom: The recently developed coronavirus vaccine named COVAXIN, has got the approval for human trials by the Drug Controller Genera…'},\n",
       " {'text': 'RT @BikramS97264319: Science is just like magic it can deal with anything.... Not like baba ramdev pantanjali coronil #COVAXIN https://t.co…'},\n",
       " {'text': \"RT @BharatBiotech: COVAXIN™, India's 1st indigenous Covid-19 vaccine, developed by Bharat Biotech successfully enters human trials.\\n\\n @ICMR…\"},\n",
       " {'text': \"RT @DDNewslive: India's first #COVID19 vaccine candidate, #COVAXIN, gets approval for human trials; it has been jointly developed by @ICMRD…\"},\n",
       " {'text': \"RT @DDNewslive: India's first #COVID19 vaccine candidate, #COVAXIN, gets approval for human trials; it has been jointly developed by @ICMRD…\"},\n",
       " {'text': 'RT @Sathish96853272: From Hydroxychloroquine To #COVAXIN ... \\nWe are Handling the Cricis pretty well...\\n\\n#COVAXIN gets nod for Human trials…'},\n",
       " {'text': \"RT @mannkibaat: COVAXIN™, India's 1st indigenous Covid-19 vaccine, developed by @BharatBiotech  in coordination with @ICMRDELHI and NIV (Pu…\"},\n",
       " {'text': \"RT @Pradeepmaiam: #COVAXIN, India's first #COVID19 vaccine candidate, developed by  Bharat Biotech, has been approved by DGCI for Phase I a…\"},\n",
       " {'text': \"RT @BharatBiotech: COVAXIN™, India's 1st indigenous Covid-19 vaccine, developed by Bharat Biotech successfully enters human trials.\\n\\n @ICMR…\"},\n",
       " {'text': \"RT @DDNewslive: India's first #COVID19 vaccine candidate, #COVAXIN, is set for human trials\\n\\nDETAILS: https://t.co/sMtiDFZupx https://t.co/…\"},\n",
       " {'text': \"RT @dna: Bharat Biotech's indigenous #COVID19 vaccine #COVAXIN gets approval for phase I &amp; II human clinical trials\\n\\nhttps://t.co/6bI1IUQlGY\"},\n",
       " {'text': 'RT @news7tamil: #BREAKING | இந்தியாவில் கொரோனாவை தடுக்க முதல் தடுப்பூசிக்கு ஒப்புதல்! \\n\\nhttps://t.co/5wMBD3FLqB | #Covid19 | #CoronaVaccine…'},\n",
       " {'text': 'RT @news7tamil: #BREAKING | இந்தியாவில் கொரோனாவை தடுக்க முதல் தடுப்பூசிக்கு ஒப்புதல்! \\n\\nhttps://t.co/5wMBD3FLqB | #Covid19 | #CoronaVaccine…'},\n",
       " {'text': \"RT @BharatBiotech: COVAXIN™, India's 1st indigenous Covid-19 vaccine, developed by Bharat Biotech successfully enters human trials.\\n\\n @ICMR…\"},\n",
       " {'text': \"RT @BharatBiotech: COVAXIN™, India's 1st indigenous Covid-19 vaccine, developed by Bharat Biotech successfully enters human trials.\\n\\n @ICMR…\"},\n",
       " {'text': \"RT @DDNewslive: India's first #COVID19 vaccine candidate, #COVAXIN, gets approval for human trials; it has been jointly developed by @ICMRD…\"},\n",
       " {'text': \"RT @BharatBiotech: COVAXIN™, India's 1st indigenous Covid-19 vaccine, developed by Bharat Biotech successfully enters human trials.\\n\\n @ICMR…\"},\n",
       " {'text': \"RT @BharatBiotech: COVAXIN™, India's 1st indigenous Covid-19 vaccine, developed by Bharat Biotech successfully enters human trials.\\n\\n @ICMR…\"},\n",
       " {'text': 'RT @bsindia: Bharat Biotech’s Covid vaccine candidate #Covaxin is set to undergo human clinical trials in July. \\n\\n@sohinidastweets reports…'}]"
      ]
     },
     "execution_count": 43,
     "metadata": {},
     "output_type": "execute_result"
    }
   ],
   "source": [
    "def createTestData(search):\n",
    "    try:\n",
    "        fetchData = api.GetSearch(search,count=100)\n",
    "        print(\"We extract \"+str(len(fetchData))+ \" for \"+search)\n",
    "        return [{\"text\":status.text} for status in fetchData]\n",
    "        #print(\"In try\")\n",
    "    except:\n",
    "        print(\"Data is not Extracted\")\n",
    "        return None\n",
    "search_string = input(\"Enter the term u want to search\")\n",
    "data =createTestData(search_string)\n",
    "data"
   ]
  },
  {
   "cell_type": "markdown",
   "metadata": {},
   "source": [
    "### Step 5: Preprocessing the data\n",
    "\n",
    "#### - Data cleaning\n",
    "- The tweets from twitter data may contains *usernames,hashtag,word in other language ,extra whitespace,stopwords(like is,am,you,the...)* ,so we have to remove all of these words.\n",
    "\n",
    "- tweets may contains the simliar words such as (like,likes ).both are same words(***stemming words***)"
   ]
  },
  {
   "cell_type": "code",
   "execution_count": 37,
   "metadata": {},
   "outputs": [],
   "source": [
    "import re\n",
    "import nltk \n",
    "from nltk import sent_tokenize\n",
    "from string import punctuation \n",
    "from nltk.tokenize import word_tokenize\n",
    "from nltk.corpus import stopwords\n",
    "ensw=set(stopwords.words('english') + list(punctuation) + ['AT_USER','URL'])\n",
    "df=[]\n",
    "for i in range(len(data)):\n",
    "    df.append(data[i].get(\"text\"))    \n",
    "\n",
    "type(df[0])\n",
    "for i in range(len(df)):    \n",
    "    df[i]=df[i].lower() \n",
    "    df[i]=re.sub('((www\\.[^\\s]+)|(https?://[^\\s]+))', '', df[i])\n",
    "    df[i] = re.sub('@[^\\s]+', '', df[i]) # remove usernames\n",
    "    df[i] = re.sub(r'#([^\\s]+)', r'\\1', df[i]) # remove the # in #hashtag\n",
    "    df[i]= re.sub('[^a-zA-Z]',' ',df[i]) #remove words then English\n",
    "    df[i]= re.sub(r'\\b\\w{1,2}\\b', '', df[i]) # Remove words with 2 or fewer letters\n",
    "    df[i] = re.sub(r'\\s\\s+', ' ', df[i]) # Remove whitespace (including new line characters)\n"
   ]
  },
  {
   "cell_type": "markdown",
   "metadata": {},
   "source": [
    "## Step 6:  Analysing the tweets\n",
    "\n",
    "- through BarPlot of most frequent tweets"
   ]
  },
  {
   "cell_type": "code",
   "execution_count": 31,
   "metadata": {},
   "outputs": [
    {
     "name": "stdout",
     "output_type": "stream",
     "text": [
      "There are 704 words in the all tweets\n"
     ]
    }
   ],
   "source": [
    "para=[]\n",
    "for i in range(len(df)):\n",
    "    para+=word_tokenize(df[i])\n",
    "filterTweets=([ i for i in para if i not in ensw])\n",
    "tweets=' '\n",
    "tweets = tweets.join(filterTweets)\n",
    "print('There are',len(tweets),'words in the all tweets')\n"
   ]
  },
  {
   "cell_type": "code",
   "execution_count": 32,
   "metadata": {},
   "outputs": [],
   "source": [
    "from collections import Counter\n",
    "wordfreq =Counter(filterTweets)\n"
   ]
  },
  {
   "cell_type": "code",
   "execution_count": 33,
   "metadata": {},
   "outputs": [
    {
     "data": {
      "text/plain": [
       "<Figure size 1080x360 with 0 Axes>"
      ]
     },
     "metadata": {},
     "output_type": "display_data"
    },
    {
     "data": {
      "image/png": "[encoded data removed]",
      "text/plain": [
       "<Figure size 1152x720 with 1 Axes>"
      ]
     },
     "metadata": {
      "needs_background": "light"
     },
     "output_type": "display_data"
    }
   ],
   "source": [
    "plt.figure(figsize=(15,5))\n",
    "l=[]\n",
    "co=[]\n",
    "for letter, count in wordfreq.most_common(20): \n",
    "    l.append(letter)\n",
    "    co.append(count)\n",
    "x_pos = np.arange(len(l)) \n",
    "plt.figure(figsize=(16, 10))\n",
    "plt.bar(x_pos, co,align='center',color='pink')\n",
    "plt.xticks(x_pos, l, rotation=90) \n",
    "plt.xlabel('words')\n",
    "plt.ylabel('counts')\n",
    "plt.title('20 most common words')\n",
    "plt.show()"
   ]
  },
  {
   "cell_type": "markdown",
   "metadata": {},
   "source": [
    "## Classification of tweets using TextBlob"
   ]
  },
  {
   "cell_type": "code",
   "execution_count": 34,
   "metadata": {},
   "outputs": [
    {
     "name": "stdout",
     "output_type": "stream",
     "text": [
      "Percentage of Positive Tweets  5.0 %\n",
      "Percentage of Negative Tweets  1.0 %\n",
      "Percentage of Neutral Tweets  94.0 %\n"
     ]
    }
   ],
   "source": [
    "from textblob import TextBlob\n",
    "\n",
    "def sentiment(tweet):\n",
    "    analysis = TextBlob(tweet)\n",
    "    if analysis.sentiment.polarity > 0:\n",
    "        return 1\n",
    "    elif analysis.sentiment.polarity == 0:\n",
    "        return 0\n",
    "    else:\n",
    "        return -1\n",
    "pos_count=0\n",
    "neg_count=0\n",
    "neu_count=0\n",
    "for i in df:\n",
    "    if(sentiment(i)>0):\n",
    "        pos_count+=1\n",
    "    elif sentiment(i)==0:\n",
    "        neu_count+=1\n",
    "    else:\n",
    "        neg_count+=1\n",
    "        \n",
    "total = pos_count+neu_count+neg_count\n",
    "pos = (pos_count/total)*100\n",
    "neg = (neg_count/total)*100\n",
    "neu = (neu_count/total)*100\n",
    "\n",
    "print(\"Percentage of Positive Tweets \",pos,\"%\")\n",
    "print(\"Percentage of Negative Tweets \",neg,\"%\")\n",
    "print(\"Percentage of Neutral Tweets \",neu,\"%\")\n",
    "        \n",
    "    "
   ]
  },
  {
   "cell_type": "markdown",
   "metadata": {},
   "source": [
    "## Step 12: Visualization of Sentiments"
   ]
  },
  {
   "cell_type": "code",
   "execution_count": 35,
   "metadata": {},
   "outputs": [
    {
     "data": {
      "image/png": "[encoded data removed]",
      "text/plain": [
       "<Figure size 432x288 with 1 Axes>"
      ]
     },
     "metadata": {},
     "output_type": "display_data"
    }
   ],
   "source": [
    "import matplotlib.pyplot as plt\n",
    "labels = 'positive tweets','negative tweets', 'neutral tweets'\n",
    "sizes = [pos_count,neg_count,neu_count]\n",
    "colors = ['green', 'red','pink']\n",
    "# Plot\n",
    "plt.pie(sizes, labels=labels, colors=colors,autopct='%1.1f%%', shadow=True, startangle=140)\n",
    "\n",
    "plt.axis('equal')\n",
    "plt.show()"
   ]
  },
  {
   "cell_type": "code",
   "execution_count": null,
   "metadata": {},
   "outputs": [],
   "source": []
  }
 ],
 "metadata": {
  "kernelspec": {
   "display_name": "Python 3",
   "language": "python",
   "name": "python3"
  },
  "language_info": {
   "codemirror_mode": {
    "name": "ipython",
    "version": 3
   },
   "file_extension": ".py",
   "mimetype": "text/x-python",
   "name": "python",
   "nbconvert_exporter": "python",
   "pygments_lexer": "ipython3",
   "version": "3.7.4"
  }
 },
 "nbformat": 4,
 "nbformat_minor": 2
}
